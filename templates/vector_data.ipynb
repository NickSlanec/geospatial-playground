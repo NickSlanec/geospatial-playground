{
 "cells": [
  {
   "cell_type": "code",
   "execution_count": 1,
   "metadata": {},
   "outputs": [],
   "source": [
    "import geopandas as gpd"
   ]
  },
  {
   "cell_type": "code",
   "execution_count": 8,
   "metadata": {},
   "outputs": [
    {
     "data": {
      "text/html": [
       "<div>\n",
       "<style scoped>\n",
       "    .dataframe tbody tr th:only-of-type {\n",
       "        vertical-align: middle;\n",
       "    }\n",
       "\n",
       "    .dataframe tbody tr th {\n",
       "        vertical-align: top;\n",
       "    }\n",
       "\n",
       "    .dataframe thead th {\n",
       "        text-align: right;\n",
       "    }\n",
       "</style>\n",
       "<table border=\"1\" class=\"dataframe\">\n",
       "  <thead>\n",
       "    <tr style=\"text-align: right;\">\n",
       "      <th></th>\n",
       "      <th>STATE</th>\n",
       "      <th>CWA</th>\n",
       "      <th>COUNTYNAME</th>\n",
       "      <th>FIPS</th>\n",
       "      <th>TIME_ZONE</th>\n",
       "      <th>FE_AREA</th>\n",
       "      <th>LON</th>\n",
       "      <th>LAT</th>\n",
       "      <th>geometry</th>\n",
       "    </tr>\n",
       "  </thead>\n",
       "  <tbody>\n",
       "    <tr>\n",
       "      <th>0</th>\n",
       "      <td>ME</td>\n",
       "      <td>CAR</td>\n",
       "      <td>Washington</td>\n",
       "      <td>23029</td>\n",
       "      <td>E</td>\n",
       "      <td>se</td>\n",
       "      <td>-67.6361</td>\n",
       "      <td>45.0363</td>\n",
       "      <td>MULTIPOLYGON (((-67.93539 44.40382, -67.93643 ...</td>\n",
       "    </tr>\n",
       "    <tr>\n",
       "      <th>1</th>\n",
       "      <td>GA</td>\n",
       "      <td>CHS</td>\n",
       "      <td>McIntosh</td>\n",
       "      <td>13191</td>\n",
       "      <td>E</td>\n",
       "      <td>se</td>\n",
       "      <td>-81.2646</td>\n",
       "      <td>31.5329</td>\n",
       "      <td>MULTIPOLYGON (((-81.46814 31.33980, -81.46747 ...</td>\n",
       "    </tr>\n",
       "    <tr>\n",
       "      <th>2</th>\n",
       "      <td>GA</td>\n",
       "      <td>CHS</td>\n",
       "      <td>Liberty</td>\n",
       "      <td>13179</td>\n",
       "      <td>E</td>\n",
       "      <td>se</td>\n",
       "      <td>-81.2103</td>\n",
       "      <td>31.7093</td>\n",
       "      <td>POLYGON ((-81.30807 31.79454, -81.30546 31.791...</td>\n",
       "    </tr>\n",
       "    <tr>\n",
       "      <th>3</th>\n",
       "      <td>AS</td>\n",
       "      <td>PPG</td>\n",
       "      <td>Swains Island</td>\n",
       "      <td>60040</td>\n",
       "      <td>S</td>\n",
       "      <td>NaN</td>\n",
       "      <td>-171.0802</td>\n",
       "      <td>-11.0548</td>\n",
       "      <td>POLYGON ((-171.07475 -11.05295, -171.07366 -11...</td>\n",
       "    </tr>\n",
       "    <tr>\n",
       "      <th>4</th>\n",
       "      <td>AS</td>\n",
       "      <td>PPG</td>\n",
       "      <td>Manu'a</td>\n",
       "      <td>60020</td>\n",
       "      <td>S</td>\n",
       "      <td>NaN</td>\n",
       "      <td>-169.5060</td>\n",
       "      <td>-14.2219</td>\n",
       "      <td>MULTIPOLYGON (((-169.60973 -14.15779, -169.609...</td>\n",
       "    </tr>\n",
       "    <tr>\n",
       "      <th>...</th>\n",
       "      <td>...</td>\n",
       "      <td>...</td>\n",
       "      <td>...</td>\n",
       "      <td>...</td>\n",
       "      <td>...</td>\n",
       "      <td>...</td>\n",
       "      <td>...</td>\n",
       "      <td>...</td>\n",
       "      <td>...</td>\n",
       "    </tr>\n",
       "    <tr>\n",
       "      <th>3355</th>\n",
       "      <td>AK</td>\n",
       "      <td>AJK</td>\n",
       "      <td>Skagway</td>\n",
       "      <td>02230</td>\n",
       "      <td>A</td>\n",
       "      <td>NaN</td>\n",
       "      <td>-135.3379</td>\n",
       "      <td>59.5602</td>\n",
       "      <td>POLYGON ((-135.02890 59.56367, -135.02760 59.4...</td>\n",
       "    </tr>\n",
       "    <tr>\n",
       "      <th>3356</th>\n",
       "      <td>AK</td>\n",
       "      <td>AFC</td>\n",
       "      <td>Chugach</td>\n",
       "      <td>02063</td>\n",
       "      <td>A</td>\n",
       "      <td>NaN</td>\n",
       "      <td>-145.7945</td>\n",
       "      <td>60.7356</td>\n",
       "      <td>MULTIPOLYGON (((-146.34290 59.40822, -146.3690...</td>\n",
       "    </tr>\n",
       "    <tr>\n",
       "      <th>3357</th>\n",
       "      <td>AK</td>\n",
       "      <td>AFC</td>\n",
       "      <td>Copper River</td>\n",
       "      <td>02066</td>\n",
       "      <td>A</td>\n",
       "      <td>NaN</td>\n",
       "      <td>-143.9685</td>\n",
       "      <td>61.8843</td>\n",
       "      <td>POLYGON ((-145.14890 63.22221, -145.14840 63.1...</td>\n",
       "    </tr>\n",
       "    <tr>\n",
       "      <th>3358</th>\n",
       "      <td>AK</td>\n",
       "      <td>AJK</td>\n",
       "      <td>Petersburg Borough</td>\n",
       "      <td>02195</td>\n",
       "      <td>A</td>\n",
       "      <td>NaN</td>\n",
       "      <td>-132.9279</td>\n",
       "      <td>57.1338</td>\n",
       "      <td>MULTIPOLYGON (((-133.48209 57.81878, -133.4795...</td>\n",
       "    </tr>\n",
       "    <tr>\n",
       "      <th>3359</th>\n",
       "      <td>AK</td>\n",
       "      <td>AJK</td>\n",
       "      <td>Hoonah-Angoon</td>\n",
       "      <td>02105</td>\n",
       "      <td>A</td>\n",
       "      <td>NaN</td>\n",
       "      <td>-135.6370</td>\n",
       "      <td>58.2893</td>\n",
       "      <td>MULTIPOLYGON (((-134.26496 57.17403, -134.2651...</td>\n",
       "    </tr>\n",
       "  </tbody>\n",
       "</table>\n",
       "<p>3360 rows × 9 columns</p>\n",
       "</div>"
      ],
      "text/plain": [
       "     STATE  CWA          COUNTYNAME   FIPS TIME_ZONE FE_AREA       LON  \\\n",
       "0       ME  CAR          Washington  23029         E      se  -67.6361   \n",
       "1       GA  CHS            McIntosh  13191         E      se  -81.2646   \n",
       "2       GA  CHS             Liberty  13179         E      se  -81.2103   \n",
       "3       AS  PPG       Swains Island  60040         S     NaN -171.0802   \n",
       "4       AS  PPG              Manu'a  60020         S     NaN -169.5060   \n",
       "...    ...  ...                 ...    ...       ...     ...       ...   \n",
       "3355    AK  AJK             Skagway  02230         A     NaN -135.3379   \n",
       "3356    AK  AFC             Chugach  02063         A     NaN -145.7945   \n",
       "3357    AK  AFC        Copper River  02066         A     NaN -143.9685   \n",
       "3358    AK  AJK  Petersburg Borough  02195         A     NaN -132.9279   \n",
       "3359    AK  AJK       Hoonah-Angoon  02105         A     NaN -135.6370   \n",
       "\n",
       "          LAT                                           geometry  \n",
       "0     45.0363  MULTIPOLYGON (((-67.93539 44.40382, -67.93643 ...  \n",
       "1     31.5329  MULTIPOLYGON (((-81.46814 31.33980, -81.46747 ...  \n",
       "2     31.7093  POLYGON ((-81.30807 31.79454, -81.30546 31.791...  \n",
       "3    -11.0548  POLYGON ((-171.07475 -11.05295, -171.07366 -11...  \n",
       "4    -14.2219  MULTIPOLYGON (((-169.60973 -14.15779, -169.609...  \n",
       "...       ...                                                ...  \n",
       "3355  59.5602  POLYGON ((-135.02890 59.56367, -135.02760 59.4...  \n",
       "3356  60.7356  MULTIPOLYGON (((-146.34290 59.40822, -146.3690...  \n",
       "3357  61.8843  POLYGON ((-145.14890 63.22221, -145.14840 63.1...  \n",
       "3358  57.1338  MULTIPOLYGON (((-133.48209 57.81878, -133.4795...  \n",
       "3359  58.2893  MULTIPOLYGON (((-134.26496 57.17403, -134.2651...  \n",
       "\n",
       "[3360 rows x 9 columns]"
      ]
     },
     "execution_count": 8,
     "metadata": {},
     "output_type": "execute_result"
    }
   ],
   "source": [
    "counties = gpd.read_file(\"data/counties/c_19se23.shp\")\n",
    "counties"
   ]
  },
  {
   "cell_type": "code",
   "execution_count": 9,
   "metadata": {},
   "outputs": [
    {
     "data": {
      "text/plain": [
       "<Axes: >"
      ]
     },
     "execution_count": 9,
     "metadata": {},
     "output_type": "execute_result"
    },
    {
     "data": {
      "image/png": "[encoded data removed]",
      "text/plain": [
       "<Figure size 640x480 with 1 Axes>"
      ]
     },
     "metadata": {},
     "output_type": "display_data"
    }
   ],
   "source": [
    "counties.plot()"
   ]
  },
  {
   "cell_type": "code",
   "execution_count": 10,
   "metadata": {},
   "outputs": [
    {
     "data": {
      "text/plain": [
       "<Geographic 2D CRS: EPSG:4269>\n",
       "Name: NAD83\n",
       "Axis Info [ellipsoidal]:\n",
       "- Lat[north]: Geodetic latitude (degree)\n",
       "- Lon[east]: Geodetic longitude (degree)\n",
       "Area of Use:\n",
       "- name: North America - onshore and offshore: Canada - Alberta; British Columbia; Manitoba; New Brunswick; Newfoundland and Labrador; Northwest Territories; Nova Scotia; Nunavut; Ontario; Prince Edward Island; Quebec; Saskatchewan; Yukon. Puerto Rico. United States (USA) - Alabama; Alaska; Arizona; Arkansas; California; Colorado; Connecticut; Delaware; Florida; Georgia; Hawaii; Idaho; Illinois; Indiana; Iowa; Kansas; Kentucky; Louisiana; Maine; Maryland; Massachusetts; Michigan; Minnesota; Mississippi; Missouri; Montana; Nebraska; Nevada; New Hampshire; New Jersey; New Mexico; New York; North Carolina; North Dakota; Ohio; Oklahoma; Oregon; Pennsylvania; Rhode Island; South Carolina; South Dakota; Tennessee; Texas; Utah; Vermont; Virginia; Washington; West Virginia; Wisconsin; Wyoming. US Virgin Islands. British Virgin Islands.\n",
       "- bounds: (167.65, 14.92, -40.73, 86.45)\n",
       "Datum: North American Datum 1983\n",
       "- Ellipsoid: GRS 1980\n",
       "- Prime Meridian: Greenwich"
      ]
     },
     "execution_count": 10,
     "metadata": {},
     "output_type": "execute_result"
    }
   ],
   "source": [
    "counties.crs"
   ]
  },
  {
   "cell_type": "code",
   "execution_count": 11,
   "metadata": {},
   "outputs": [],
   "source": [
    "marin = counties[counties['COUNTYNAME'] == 'Marin']"
   ]
  },
  {
   "cell_type": "code",
   "execution_count": 13,
   "metadata": {},
   "outputs": [
    {
     "data": {
      "text/plain": [
       "<Axes: >"
      ]
     },
     "execution_count": 13,
     "metadata": {},
     "output_type": "execute_result"
    },
    {
     "data": {
      "image/png": "[encoded data removed]",
      "text/plain": [
       "<Figure size 640x480 with 1 Axes>"
      ]
     },
     "metadata": {},
     "output_type": "display_data"
    }
   ],
   "source": [
    "marin.plot()"
   ]
  },
  {
   "cell_type": "code",
   "execution_count": 16,
   "metadata": {},
   "outputs": [],
   "source": [
    "marin.to_file('data/counties/marin/marin.shp')"
   ]
  }
 ],
 "metadata": {
  "kernelspec": {
   "display_name": "gis",
   "language": "python",
   "name": "python3"
  },
  "language_info": {
   "codemirror_mode": {
    "name": "ipython",
    "version": 3
   },
   "file_extension": ".py",
   "mimetype": "text/x-python",
   "name": "python",
   "nbconvert_exporter": "python",
   "pygments_lexer": "ipython3",
   "version": "3.11.4"
  },
  "orig_nbformat": 4
 },
 "nbformat": 4,
 "nbformat_minor": 2
}
