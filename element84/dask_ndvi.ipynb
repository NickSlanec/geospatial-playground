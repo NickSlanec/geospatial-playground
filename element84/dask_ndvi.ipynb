{
 "cells": [
  {
   "cell_type": "code",
   "execution_count": 1,
   "metadata": {},
   "outputs": [],
   "source": [
    "import json\n",
    "import pystac\n",
    "import rioxarray\n",
    "import geopandas as gpd\n",
    "from pystac_client import Client\n",
    "import numpy as np\n",
    "import xarray\n",
    "import rasterio\n",
    "\n",
    "import earthpy.plot as ep\n",
    "import matplotlib.pyplot as plt\n",
    "\n",
    "from matplotlib.colors import ListedColormap"
   ]
  },
  {
   "cell_type": "code",
   "execution_count": 2,
   "metadata": {},
   "outputs": [],
   "source": [
    "country = \"Argentina\"\n",
    "province = \"Santa Cruz\"\n",
    "\n",
    "provinces = gpd.read_file(\"./data/states_provinces/ne_10m_admin_1_states_provinces.shp\")\n",
    "# Find Santa Cruz in the dataset\n",
    "scdf = provinces.loc[(provinces['name'] == province) & (provinces['admin'] == country)]\n",
    "scdf = scdf.reset_index(drop=True)"
   ]
  },
  {
   "cell_type": "code",
   "execution_count": 3,
   "metadata": {},
   "outputs": [],
   "source": [
    "santa_cruz_dict = scdf.iloc[0].geometry.__geo_interface__\n",
    "santa_cruz_polygon = json.dumps(santa_cruz_dict)"
   ]
  },
  {
   "cell_type": "markdown",
   "metadata": {},
   "source": [
    "----"
   ]
  },
  {
   "cell_type": "code",
   "execution_count": 4,
   "metadata": {},
   "outputs": [],
   "source": [
    "api_url = \"https://earth-search.aws.element84.com/v1\"\n",
    "client = Client.open(api_url)\n",
    "collection = \"sentinel-2-l2a\"  # Sentinel-2, Level 2A, Cloud Optimized GeoTiffs (COGs)"
   ]
  },
  {
   "cell_type": "code",
   "execution_count": 5,
   "metadata": {},
   "outputs": [
    {
     "name": "stdout",
     "output_type": "stream",
     "text": [
      "236\n"
     ]
    }
   ],
   "source": [
    "search = client.search(\n",
    "    collections=[collection],\n",
    "    intersects=santa_cruz_polygon,\n",
    "    #max_items=10,\n",
    "    datetime=\"2020-11-01/2020-12-01\",\n",
    "    query=[\"eo:cloud_cover<20\"]\n",
    ")\n",
    "print(search.matched())"
   ]
  },
  {
   "cell_type": "code",
   "execution_count": 6,
   "metadata": {},
   "outputs": [],
   "source": [
    "items = search.item_collection()"
   ]
  },
  {
   "cell_type": "code",
   "execution_count": null,
   "metadata": {},
   "outputs": [],
   "source": [
    "source_bands = []\n",
    "for item in items:\n",
    "    print(\"Getting item:\",item)\n",
    "    red = rioxarray.open_rasterio(item.assets[\"red\"].href, masked=True, lock=False, chunks=(1, 4000, 4000))\n",
    "    nir = rioxarray.open_rasterio(item.assets[\"nir08\"].href, masked=True, lock=False, chunks=(1, 4000, 4000))\n",
    "    \n",
    "    red_matched = red.rio.reproject_match(nir)\n",
    "    ndvi = (nir - red_matched)/ (nir + red_matched)\n",
    "    \n",
    "    source_bands.append(ndvi)"
   ]
  },
  {
   "cell_type": "code",
   "execution_count": null,
   "metadata": {},
   "outputs": [],
   "source": []
  }
 ],
 "metadata": {
  "kernelspec": {
   "display_name": "gis",
   "language": "python",
   "name": "python3"
  },
  "language_info": {
   "codemirror_mode": {
    "name": "ipython",
    "version": 3
   },
   "file_extension": ".py",
   "mimetype": "text/x-python",
   "name": "python",
   "nbconvert_exporter": "python",
   "pygments_lexer": "ipython3",
   "version": "3.11.4"
  },
  "orig_nbformat": 4
 },
 "nbformat": 4,
 "nbformat_minor": 2
}
